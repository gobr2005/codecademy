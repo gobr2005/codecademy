{
 "cells": [
  {
   "cell_type": "markdown",
   "id": "01391d35-a969-4632-a3e7-31ae7384b99d",
   "metadata": {},
   "source": [
    "# Arabica Coffee Exploration\n",
    "\n",
    "In the past few years, I have become more interested in coffee. I have thought about how Q-scores affect the price of coffee. However, a more foundational questions deals with how a coffee will score first before it is priced. Coffee grading comes down to one major cateria, is this smell/taste desireable or not?"
   ]
  }
 ],
 "metadata": {
  "kernelspec": {
   "display_name": "Python 3 (ipykernel)",
   "language": "python",
   "name": "python3"
  },
  "language_info": {
   "codemirror_mode": {
    "name": "ipython",
    "version": 3
   },
   "file_extension": ".py",
   "mimetype": "text/x-python",
   "name": "python",
   "nbconvert_exporter": "python",
   "pygments_lexer": "ipython3",
   "version": "3.9.7"
  }
 },
 "nbformat": 4,
 "nbformat_minor": 5
}
