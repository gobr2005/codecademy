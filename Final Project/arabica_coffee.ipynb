{
 "cells": [
  {
   "cell_type": "markdown",
   "id": "0d8fd073-3517-4a34-9616-b56f0de1d802",
   "metadata": {},
   "source": [
    "# Arabica Coffee Exploration"
   ]
  },
  {
   "cell_type": "markdown",
   "id": "01391d35-a969-4632-a3e7-31ae7384b99d",
   "metadata": {
    "tags": []
   },
   "source": [
    "## Introduction\n",
    "\n",
    "### Background\n",
    "\n",
    "In the past few years, I have become more interested in coffee. I have thought about how Q-grade affect the price of coffee. However, a more foundational questions deals with how a coffee will score first before it is priced. A Q-grader evaluates the coffee during a process called cupping. The cupping process allows the grader to compare different coffees together. They brew each coffee with the same amount of coffee and water. Specialty Coffee Assocation (SCA) provides the [protocols](https://sca.coffee/research/protocols-best-practices) for cupping an evaluating coffee. Coffees are graded on \"Fragrance/Aroma, Flavor, Aftertaste, Acidity, Body, Balance, Uniformity, Clean Cup, Sweetness, Defects, and Overall\" (Source: SCA). The graders assign a number between 6-10 using quarter point incriments.  "
   ]
  },
  {
   "cell_type": "markdown",
   "id": "ba749308-8eae-4c64-85a1-0ab0a69321bf",
   "metadata": {
    "tags": []
   },
   "source": [
    "### Data Source\n",
    "This data comes from James LeDoux [GitHub](https://github.com/jldbc/coffee-quality-database/tree/master/data) repositiary. He scrapped the data from Coffee Quality Institue [database](https://database.coffeeinstitute.org/) in January 2018. He has both the scrapped data and the clean data. I have choosen to use the clean data."
   ]
  },
  {
   "cell_type": "markdown",
   "id": "4989185e-cc55-4f03-8178-f49c72322569",
   "metadata": {},
   "source": [
    "## Data Scoping"
   ]
  },
  {
   "cell_type": "markdown",
   "id": "b557041d-b30c-40cd-9444-49fde601e184",
   "metadata": {},
   "source": [
    "I want to discover the connection between cupping score and alititude and also look at variety and cupping score. Here is the order of questions to discover or connect.\n",
    "\n",
    "1. Compare `Total.Cup.Points` with `altitude_mean_meters`\n",
    "\n",
    "2. Compare `Total.Cup.Points` with `variety`\n",
    "\n",
    "3. Determine if `altitude_mean_meters` and `variety` effect `Total.Cup.Points`."
   ]
  },
  {
   "cell_type": "markdown",
   "id": "a15dd9a2-64f5-44f5-b320-f6eb46c90240",
   "metadata": {},
   "source": [
    "### Import Python Modules\n",
    "\n",
    "To start the analysis, I am going to load Pandas, Matplotlib, and Seaborn"
   ]
  },
  {
   "cell_type": "code",
   "execution_count": 3,
   "id": "ab480c46-30ea-40ba-9135-cd25ffc8271c",
   "metadata": {},
   "outputs": [],
   "source": [
    "import pandas as pd\n",
    "from matplotlib import pyplot as plt\n",
    "import seaborn as sns"
   ]
  },
  {
   "cell_type": "markdown",
   "id": "e5b600e5-39a6-43f0-ab04-eeb01ed24f9e",
   "metadata": {},
   "source": [
    "### Loading the Data"
   ]
  },
  {
   "cell_type": "code",
   "execution_count": 10,
   "id": "3fd64f68-dad9-4549-bef5-c317887e75af",
   "metadata": {},
   "outputs": [
    {
     "name": "stdout",
     "output_type": "stream",
     "text": [
      "(1311, 44)\n"
     ]
    }
   ],
   "source": [
    "coffee_df = pd.read_csv(\"arabica_data_cleaned.csv\")\n",
    "print(coffee_df.shape)"
   ]
  },
  {
   "cell_type": "code",
   "execution_count": 12,
   "id": "cc91ad8f-3faf-4256-a31d-8f0721e288d4",
   "metadata": {},
   "outputs": [
    {
     "name": "stdout",
     "output_type": "stream",
     "text": [
      "        Species                      Owner Country.of.Origin Farm.Name  \\\n",
      "count      1311                       1304              1310       955   \n",
      "unique        1                        305                36       557   \n",
      "top     Arabica  juan luis alvarado romero            Mexico   various   \n",
      "freq       1311                        155               236        47   \n",
      "\n",
      "       Lot.Number              Mill ICO.Number               Company Altitude  \\\n",
      "count         270              1001       1165                  1102     1088   \n",
      "unique        221               447        841                   270      383   \n",
      "top             1  beneficio ixchel          0  unex guatemala, s.a.     1100   \n",
      "freq           18                90         67                    86       43   \n",
      "\n",
      "       Region  ...     Grading.Date                    Owner.1  Variety  \\\n",
      "count    1254  ...             1311                       1304     1110   \n",
      "unique    343  ...              558                        309       29   \n",
      "top     huila  ...  July 11th, 2012  Juan Luis Alvarado Romero  Caturra   \n",
      "freq      112  ...               25                        155      256   \n",
      "\n",
      "       Processing.Method  Color       Expiration  \\\n",
      "count               1159   1095             1311   \n",
      "unique                 5      4              557   \n",
      "top         Washed / Wet  Green  July 11th, 2013   \n",
      "freq                 812    850               25   \n",
      "\n",
      "                  Certification.Body  \\\n",
      "count                           1311   \n",
      "unique                            26   \n",
      "top     Specialty Coffee Association   \n",
      "freq                             295   \n",
      "\n",
      "                           Certification.Address  \\\n",
      "count                                       1311   \n",
      "unique                                        30   \n",
      "top     36d0d00a3724338ba7937c52a378d085f2172daa   \n",
      "freq                                         293   \n",
      "\n",
      "                           Certification.Contact unit_of_measurement  \n",
      "count                                       1311                1311  \n",
      "unique                                        27                   2  \n",
      "top     0878a7d4b9d35ddbf0fe2ce69a2062cceb45a660                   m  \n",
      "freq                                         295                1129  \n",
      "\n",
      "[4 rows x 24 columns]\n",
      "<class 'pandas.core.frame.DataFrame'>\n",
      "RangeIndex: 1311 entries, 0 to 1310\n",
      "Data columns (total 44 columns):\n",
      " #   Column                 Non-Null Count  Dtype  \n",
      "---  ------                 --------------  -----  \n",
      " 0   Unnamed: 0             1311 non-null   int64  \n",
      " 1   Species                1311 non-null   object \n",
      " 2   Owner                  1304 non-null   object \n",
      " 3   Country.of.Origin      1310 non-null   object \n",
      " 4   Farm.Name              955 non-null    object \n",
      " 5   Lot.Number             270 non-null    object \n",
      " 6   Mill                   1001 non-null   object \n",
      " 7   ICO.Number             1165 non-null   object \n",
      " 8   Company                1102 non-null   object \n",
      " 9   Altitude               1088 non-null   object \n",
      " 10  Region                 1254 non-null   object \n",
      " 11  Producer               1081 non-null   object \n",
      " 12  Number.of.Bags         1311 non-null   int64  \n",
      " 13  Bag.Weight             1311 non-null   object \n",
      " 14  In.Country.Partner     1311 non-null   object \n",
      " 15  Harvest.Year           1264 non-null   object \n",
      " 16  Grading.Date           1311 non-null   object \n",
      " 17  Owner.1                1304 non-null   object \n",
      " 18  Variety                1110 non-null   object \n",
      " 19  Processing.Method      1159 non-null   object \n",
      " 20  Aroma                  1311 non-null   float64\n",
      " 21  Flavor                 1311 non-null   float64\n",
      " 22  Aftertaste             1311 non-null   float64\n",
      " 23  Acidity                1311 non-null   float64\n",
      " 24  Body                   1311 non-null   float64\n",
      " 25  Balance                1311 non-null   float64\n",
      " 26  Uniformity             1311 non-null   float64\n",
      " 27  Clean.Cup              1311 non-null   float64\n",
      " 28  Sweetness              1311 non-null   float64\n",
      " 29  Cupper.Points          1311 non-null   float64\n",
      " 30  Total.Cup.Points       1311 non-null   float64\n",
      " 31  Moisture               1311 non-null   float64\n",
      " 32  Category.One.Defects   1311 non-null   int64  \n",
      " 33  Quakers                1310 non-null   float64\n",
      " 34  Color                  1095 non-null   object \n",
      " 35  Category.Two.Defects   1311 non-null   int64  \n",
      " 36  Expiration             1311 non-null   object \n",
      " 37  Certification.Body     1311 non-null   object \n",
      " 38  Certification.Address  1311 non-null   object \n",
      " 39  Certification.Contact  1311 non-null   object \n",
      " 40  unit_of_measurement    1311 non-null   object \n",
      " 41  altitude_low_meters    1084 non-null   float64\n",
      " 42  altitude_high_meters   1084 non-null   float64\n",
      " 43  altitude_mean_meters   1084 non-null   float64\n",
      "dtypes: float64(16), int64(4), object(24)\n",
      "memory usage: 450.8+ KB\n",
      "None\n"
     ]
    }
   ],
   "source": [
    "print(coffee_df.describe(exclude=\"number\"))\n",
    "print(coffee_df.info())"
   ]
  }
 ],
 "metadata": {
  "kernelspec": {
   "display_name": "Python 3 (ipykernel)",
   "language": "python",
   "name": "python3"
  },
  "language_info": {
   "codemirror_mode": {
    "name": "ipython",
    "version": 3
   },
   "file_extension": ".py",
   "mimetype": "text/x-python",
   "name": "python",
   "nbconvert_exporter": "python",
   "pygments_lexer": "ipython3",
   "version": "3.9.7"
  }
 },
 "nbformat": 4,
 "nbformat_minor": 5
}
