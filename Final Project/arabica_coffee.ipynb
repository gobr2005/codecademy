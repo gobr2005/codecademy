{
 "cells": [
  {
   "cell_type": "markdown",
   "id": "0d8fd073-3517-4a34-9616-b56f0de1d802",
   "metadata": {},
   "source": [
    "# Arabica Coffee Exploration"
   ]
  },
  {
   "cell_type": "markdown",
   "id": "01391d35-a969-4632-a3e7-31ae7384b99d",
   "metadata": {
    "tags": []
   },
   "source": [
    "## Introduction\n",
    "\n",
    "In the past few years, I have become more interested in coffee. I have thought about how Q-grade affect the price of coffee. However, a more foundational questions deals with how a coffee will score first before it is priced. A Q-grader grades the the coffee during a process called cupping. The cupping process allows the grader to compare different coffees together. They brew each coffee with the same amount of coffee and water. Specialty Coffee Assocation (SCA) provides the [protocols](https://sca.coffee/research/protocols-best-practices) for cupping an evaluating coffee. "
   ]
  },
  {
   "cell_type": "markdown",
   "id": "ba749308-8eae-4c64-85a1-0ab0a69321bf",
   "metadata": {
    "tags": []
   },
   "source": [
    "## Data\n",
    "This data comes from James LeDoux [GitHub](https://github.com/jldbc/coffee-quality-database/tree/master/data) repositiary. He scrapped the data from Coffee Quality Institue [database](https://database.coffeeinstitute.org/) in January 2018. He has both the scrapped data and the clean data. I have choosen to use the clean data."
   ]
  },
  {
   "cell_type": "markdown",
   "id": "4989185e-cc55-4f03-8178-f49c72322569",
   "metadata": {},
   "source": [
    "## Scoping"
   ]
  },
  {
   "cell_type": "markdown",
   "id": "a15dd9a2-64f5-44f5-b320-f6eb46c90240",
   "metadata": {},
   "source": [
    "## Import Python Modules"
   ]
  },
  {
   "cell_type": "markdown",
   "id": "e5b600e5-39a6-43f0-ab04-eeb01ed24f9e",
   "metadata": {},
   "source": [
    "## Loading the Data"
   ]
  }
 ],
 "metadata": {
  "kernelspec": {
   "display_name": "Python 3 (ipykernel)",
   "language": "python",
   "name": "python3"
  },
  "language_info": {
   "codemirror_mode": {
    "name": "ipython",
    "version": 3
   },
   "file_extension": ".py",
   "mimetype": "text/x-python",
   "name": "python",
   "nbconvert_exporter": "python",
   "pygments_lexer": "ipython3",
   "version": "3.9.7"
  }
 },
 "nbformat": 4,
 "nbformat_minor": 5
}
