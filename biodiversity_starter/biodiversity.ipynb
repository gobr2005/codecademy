{
 "cells": [
  {
   "cell_type": "markdown",
   "metadata": {},
   "source": [
    "# Biodiversity in National Parks\n",
    "\n",
    "In this project, we will be examine data gathered from US National Parks. The goal is to find which parks contain the most diversity within.\n",
    "\n",
    "We will answer the following questions:\n",
    "\n",
    "* What is the distribution of conservation_status for species?\n",
    "* Are certain types of species more likely to be endangered?\n",
    "* Are the differences between species and their conservation status significant?\n",
    "* Which species were spotted the most at each park?\n",
    "\n",
    "The Data source was given to me from Codecademy for completion of the data analysis course. "
   ]
  },
  {
   "cell_type": "code",
   "execution_count": 1,
   "metadata": {},
   "outputs": [],
   "source": [
    "import pandas as pd\n",
    "import numpy as np\n",
    "\n",
    "import matplotlib.pyplot as plt\n",
    "import seaborn as sns"
   ]
  },
  {
   "cell_type": "markdown",
   "metadata": {},
   "source": [
    "## Import Data\n",
    "\n",
    "I have imported the required CSVs for the project then we will start to examine them in the next section."
   ]
  },
  {
   "cell_type": "code",
   "execution_count": 20,
   "metadata": {},
   "outputs": [],
   "source": [
    "species_data = pd.read_csv(\"species_info.csv\",encoding='utf-8')\n",
    "observation_data = pd.read_csv(\"observations.csv\",encoding='utf-8')"
   ]
  },
  {
   "cell_type": "markdown",
   "metadata": {},
   "source": [
    "## Examine Species Data\n",
    "\n",
    "In this section, I have added lines to explore the data and to know what is contained in the Species Data."
   ]
  },
  {
   "cell_type": "code",
   "execution_count": 22,
   "metadata": {},
   "outputs": [
    {
     "name": "stdout",
     "output_type": "stream",
     "text": [
      "Species\n",
      "Info\n",
      "<class 'pandas.core.frame.DataFrame'>\n",
      "RangeIndex: 5824 entries, 0 to 5823\n",
      "Data columns (total 4 columns):\n",
      " #   Column               Non-Null Count  Dtype \n",
      "---  ------               --------------  ----- \n",
      " 0   category             5824 non-null   object\n",
      " 1   scientific_name      5824 non-null   object\n",
      " 2   common_names         5824 non-null   object\n",
      " 3   conservation_status  191 non-null    object\n",
      "dtypes: object(4)\n",
      "memory usage: 182.1+ KB\n",
      "None\n",
      "Describe\n",
      "              category    scientific_name        common_names  \\\n",
      "count             5824               5824                5824   \n",
      "unique               7               5541                5504   \n",
      "top     Vascular Plant  Castor canadensis  Brachythecium Moss   \n",
      "freq              4470                  3                   7   \n",
      "\n",
      "       conservation_status  \n",
      "count                  191  \n",
      "unique                   4  \n",
      "top     Species of Concern  \n",
      "freq                   161  \n",
      "NULL Values\n",
      "category               5824\n",
      "scientific_name        5824\n",
      "common_names           5824\n",
      "conservation_status    5824\n",
      "dtype: int64\n",
      "  category                scientific_name  \\\n",
      "0   Mammal  Clethrionomys gapperi gapperi   \n",
      "1   Mammal                      Bos bison   \n",
      "2   Mammal                     Bos taurus   \n",
      "3   Mammal                     Ovis aries   \n",
      "4   Mammal                 Cervus elaphus   \n",
      "\n",
      "                                        common_names conservation_status  \n",
      "0                           Gapper's Red-Backed Vole                 NaN  \n",
      "1                              American Bison, Bison                 NaN  \n",
      "2  Aurochs, Aurochs, Domestic Cattle (Feral), Dom...                 NaN  \n",
      "3  Domestic Sheep, Mouflon, Red Sheep, Sheep (Feral)                 NaN  \n",
      "4                                      Wapiti Or Elk                 NaN  \n"
     ]
    }
   ],
   "source": [
    "print(\"Species\")\n",
    "print(\"Info\")\n",
    "print(species_data.info())\n",
    "print(\"Describe\")\n",
    "print(species_data.describe())\n",
    "print(\"NULL Values\")\n",
    "print(species_data.isnull().count())\n",
    "print(species_data.head())"
   ]
  },
  {
   "cell_type": "markdown",
   "metadata": {},
   "source": [
    "## Examine Species Data\n",
    "\n",
    "In this section, I have added lines to explore the data and to know what is contained in the Observation Data."
   ]
  },
  {
   "cell_type": "code",
   "execution_count": 4,
   "metadata": {},
   "outputs": [
    {
     "name": "stdout",
     "output_type": "stream",
     "text": [
      "Observation\n",
      "<class 'pandas.core.frame.DataFrame'>\n",
      "RangeIndex: 23296 entries, 0 to 23295\n",
      "Data columns (total 3 columns):\n",
      " #   Column           Non-Null Count  Dtype \n",
      "---  ------           --------------  ----- \n",
      " 0   scientific_name  23296 non-null  object\n",
      " 1   park_name        23296 non-null  object\n",
      " 2   observations     23296 non-null  int64 \n",
      "dtypes: int64(1), object(2)\n",
      "memory usage: 546.1+ KB\n",
      "None\n",
      "Describe\n",
      "         scientific_name                            park_name  observations\n",
      "count              23296                                23296  23296.000000\n",
      "unique              5541                                    4           NaN\n",
      "top     Myotis lucifugus  Great Smoky Mountains National Park           NaN\n",
      "freq                  12                                 5824           NaN\n",
      "mean                 NaN                                  NaN    142.287904\n",
      "std                  NaN                                  NaN     69.890532\n",
      "min                  NaN                                  NaN      9.000000\n",
      "25%                  NaN                                  NaN     86.000000\n",
      "50%                  NaN                                  NaN    124.000000\n",
      "75%                  NaN                                  NaN    195.000000\n",
      "max                  NaN                                  NaN    321.000000\n"
     ]
    }
   ],
   "source": [
    "print(\"Observation\")\n",
    "print(observation_data.info())\n",
    "print(\"Describe\")\n",
    "print(observation_data.describe(include='all'))\n"
   ]
  },
  {
   "cell_type": "markdown",
   "metadata": {},
   "source": [
    "## Clean Data Values\n",
    "\n",
    "Out of 25632 entries, only 880 of the `conservation_status` entires do not contain a NULL value. The next step will change these NULL values into a `Not Threatened` value."
   ]
  },
  {
   "cell_type": "code",
   "execution_count": 5,
   "metadata": {},
   "outputs": [],
   "source": [
    "species_data = species_data.fillna(value={'conservation_status': 'Not Threatened'})\n",
    "#print(species_data.head())"
   ]
  },
  {
   "cell_type": "markdown",
   "metadata": {},
   "source": [
    "## What is the distribution of conservation_status for Species?\n",
    "\n",
    "In this first question, we will explore which species have what type of conservation status. Anything `Not Threatened` will be excluded from the exploration since they do not contain a status.\n",
    "\n",
    "### Create a table of aniamls\n",
    "\n",
    "The first step is to cound how many category of species are in each conservation status. Looks at the table, we notice that \"Species of Concern\" contain the highest count of species."
   ]
  },
  {
   "cell_type": "code",
   "execution_count": 6,
   "metadata": {},
   "outputs": [
    {
     "name": "stdout",
     "output_type": "stream",
     "text": [
      "category             Amphibian  Bird  Fish  Mammal  Nonvascular Plant  \\\n",
      "conservation_status                                                     \n",
      "Endangered                 1.0   4.0   3.0     7.0                NaN   \n",
      "In Recovery                NaN   3.0   NaN     1.0                NaN   \n",
      "Species of Concern         4.0  72.0   4.0    28.0                5.0   \n",
      "Threatened                 2.0   NaN   4.0     2.0                NaN   \n",
      "\n",
      "category             Reptile  Vascular Plant  \n",
      "conservation_status                           \n",
      "Endangered               NaN             1.0  \n",
      "In Recovery              NaN             NaN  \n",
      "Species of Concern       5.0            43.0  \n",
      "Threatened               NaN             2.0  \n"
     ]
    }
   ],
   "source": [
    "conservation_status_count = species_data[species_data.conservation_status != \"Not Threatened\"].groupby([\"conservation_status\", \"category\"])['scientific_name'].count().unstack()\n",
    "print(conservation_status_count)"
   ]
  },
  {
   "cell_type": "markdown",
   "metadata": {},
   "source": [
    "### Create a Bar Graph\n",
    "\n",
    "The graph shows that `Species of Concern` contains more animals than the other three groups. Majority of the"
   ]
  },
  {
   "cell_type": "code",
   "execution_count": 7,
   "metadata": {},
   "outputs": [
    {
     "data": {
      "text/plain": [
       "Text(0.5, 1.0, 'Total Animals per Conservation Status')"
      ]
     },
     "execution_count": 7,
     "metadata": {},
     "output_type": "execute_result"
    },
    {
     "data": {
      "image/png": "[encoded data removed]",
      "text/plain": [
       "<Figure size 576x432 with 1 Axes>"
      ]
     },
     "metadata": {
      "needs_background": "light"
     },
     "output_type": "display_data"
    }
   ],
   "source": [
    "conservation_status_count.plot(kind='bar', figsize=(8,6), stacked=True)\n",
    "plt.xlabel('Conservation Status')\n",
    "plt.ylabel('Total Animals')\n",
    "plt.title('Total Animals per Conservation Status')"
   ]
  },
  {
   "cell_type": "markdown",
   "metadata": {},
   "source": [
    "## Are certain types of species more likely to be endangered?"
   ]
  },
  {
   "cell_type": "markdown",
   "metadata": {},
   "source": [
    "## Which species were spotted the most at each park?\n",
    "\n",
    "To answer this question, I wanted to know the max observations for each park. I created a simple loop to find the max observation for each park. I would use this data to confirm my findings. \n",
    "\n",
    "The next step would be to discover how to find the species for each park. After many trial and error with `groupby` function, I find my answer on [StackOverflow](https://stackoverflow.com/questions/49263437/how-to-get-value-of-a-column-based-on-the-maximum-of-another-column-in-case-of-d) using `df.loc` and `idxmax` functions. I sorted the answer from most observations to least to see which park had the most obersvations. "
   ]
  },
  {
   "cell_type": "code",
   "execution_count": 16,
   "metadata": {},
   "outputs": [
    {
     "name": "stdout",
     "output_type": "stream",
     "text": [
      "Great Smoky Mountains National Park 147\n",
      "Yosemite National Park 223\n",
      "Bryce National Park 176\n",
      "Yellowstone National Park 321\n"
     ]
    }
   ],
   "source": [
    "park_names = observation_data['park_name'].unique()\n",
    "for park_name in park_names:\n",
    "    print(park_name, observation_data[observation_data['park_name'] == park_name]['observations'].max())"
   ]
  },
  {
   "cell_type": "code",
   "execution_count": 19,
   "metadata": {},
   "outputs": [
    {
     "name": "stdout",
     "output_type": "stream",
     "text": [
      "                       scientific_name                            park_name  \\\n",
      "11281           Lycopodium tristachyum            Yellowstone National Park   \n",
      "6682   Ivesia shockleyi var. shockleyi               Yosemite National Park   \n",
      "13138             Valerianella radiata                  Bryce National Park   \n",
      "8840          Sonchus asper ssp. asper  Great Smoky Mountains National Park   \n",
      "\n",
      "       observations  \n",
      "11281           321  \n",
      "6682            223  \n",
      "13138           176  \n",
      "8840            147  \n"
     ]
    }
   ],
   "source": [
    "cols = ['park_name']\n",
    "most_spotted = observation_data.loc[observation_data.groupby(cols)['observations'].idxmax()]\n",
    "print(most_spotted.sort_values(by=['observations'], ascending=False))"
   ]
  }
 ],
 "metadata": {
  "kernelspec": {
   "display_name": "Python 3 (ipykernel)",
   "language": "python",
   "name": "python3"
  },
  "language_info": {
   "codemirror_mode": {
    "name": "ipython",
    "version": 3
   },
   "file_extension": ".py",
   "mimetype": "text/x-python",
   "name": "python",
   "nbconvert_exporter": "python",
   "pygments_lexer": "ipython3",
   "version": "3.9.7"
  }
 },
 "nbformat": 4,
 "nbformat_minor": 4
}
