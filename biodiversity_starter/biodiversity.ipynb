{
 "cells": [
  {
   "cell_type": "markdown",
   "metadata": {},
   "source": [
    "# Biodiversity in National Parks\n",
    "\n",
    "In this project, we will be examine data gathered from US National Parks. The goal is to find which parks contain the most diversity within."
   ]
  },
  {
   "cell_type": "code",
   "execution_count": 9,
   "metadata": {},
   "outputs": [],
   "source": [
    "import pandas as pd\n",
    "import matplotlib.pyplot as plt\n",
    "import seaborn as sns\n",
    "from scipy.stats import chi2_contingency, f_oneway\n",
    "from statsmodels.stats.multicomp import pairwise_tukeyhsd"
   ]
  },
  {
   "cell_type": "markdown",
   "metadata": {},
   "source": [
    "## Import Data\n",
    "\n",
    "I have imported the required CSVs for the project then we will start to examine them in the next section."
   ]
  },
  {
   "cell_type": "code",
   "execution_count": 2,
   "metadata": {},
   "outputs": [],
   "source": [
    "species_data = pd.read_csv(\"species_info.csv\")\n",
    "observation_data = pd.read_csv(\"observations.csv\")"
   ]
  },
  {
   "cell_type": "markdown",
   "metadata": {},
   "source": [
    "## Examine Species Data\n",
    "\n",
    "In this section, I have added lines to explore the data and to know what is contained in the Species Data."
   ]
  },
  {
   "cell_type": "code",
   "execution_count": 3,
   "metadata": {},
   "outputs": [
    {
     "name": "stdout",
     "output_type": "stream",
     "text": [
      "Species\n",
      "<class 'pandas.core.frame.DataFrame'>\n",
      "RangeIndex: 5824 entries, 0 to 5823\n",
      "Data columns (total 4 columns):\n",
      " #   Column               Non-Null Count  Dtype \n",
      "---  ------               --------------  ----- \n",
      " 0   category             5824 non-null   object\n",
      " 1   scientific_name      5824 non-null   object\n",
      " 2   common_names         5824 non-null   object\n",
      " 3   conservation_status  191 non-null    object\n",
      "dtypes: object(4)\n",
      "memory usage: 182.1+ KB\n",
      "None\n",
      "              category    scientific_name        common_names  \\\n",
      "count             5824               5824                5824   \n",
      "unique               7               5541                5504   \n",
      "top     Vascular Plant  Castor canadensis  Brachythecium Moss   \n",
      "freq              4470                  3                   7   \n",
      "\n",
      "       conservation_status  \n",
      "count                  191  \n",
      "unique                   4  \n",
      "top     Species of Concern  \n",
      "freq                   161  \n",
      "  category                scientific_name  \\\n",
      "0   Mammal  Clethrionomys gapperi gapperi   \n",
      "1   Mammal                      Bos bison   \n",
      "2   Mammal                     Bos taurus   \n",
      "3   Mammal                     Ovis aries   \n",
      "4   Mammal                 Cervus elaphus   \n",
      "\n",
      "                                        common_names conservation_status  \n",
      "0                           Gapper's Red-Backed Vole                 NaN  \n",
      "1                              American Bison, Bison                 NaN  \n",
      "2  Aurochs, Aurochs, Domestic Cattle (Feral), Dom...                 NaN  \n",
      "3  Domestic Sheep, Mouflon, Red Sheep, Sheep (Feral)                 NaN  \n",
      "4                                      Wapiti Or Elk                 NaN  \n"
     ]
    }
   ],
   "source": [
    "print(\"Species\")\n",
    "print(species_data.info())\n",
    "print(species_data.describe())\n",
    "print(species_data.head())"
   ]
  },
  {
   "cell_type": "markdown",
   "metadata": {},
   "source": [
    "## Examine Species Data\n",
    "\n",
    "In this section, I have added lines to explore the data and to know what is contained in the Observation Data."
   ]
  },
  {
   "cell_type": "code",
   "execution_count": 4,
   "metadata": {},
   "outputs": [
    {
     "name": "stdout",
     "output_type": "stream",
     "text": [
      "Observation\n",
      "<class 'pandas.core.frame.DataFrame'>\n",
      "RangeIndex: 23296 entries, 0 to 23295\n",
      "Data columns (total 3 columns):\n",
      " #   Column           Non-Null Count  Dtype \n",
      "---  ------           --------------  ----- \n",
      " 0   scientific_name  23296 non-null  object\n",
      " 1   park_name        23296 non-null  object\n",
      " 2   observations     23296 non-null  int64 \n",
      "dtypes: int64(1), object(2)\n",
      "memory usage: 546.1+ KB\n",
      "None\n",
      "       observations\n",
      "count  23296.000000\n",
      "mean     142.287904\n",
      "std       69.890532\n",
      "min        9.000000\n",
      "25%       86.000000\n",
      "50%      124.000000\n",
      "75%      195.000000\n",
      "max      321.000000\n",
      "                        scientific_name                            park_name  \\\n",
      "0                    Vicia benghalensis  Great Smoky Mountains National Park   \n",
      "1                        Neovison vison  Great Smoky Mountains National Park   \n",
      "2                     Prunus subcordata               Yosemite National Park   \n",
      "3                  Abutilon theophrasti                  Bryce National Park   \n",
      "4              Githopsis specularioides  Great Smoky Mountains National Park   \n",
      "5     Elymus virginicus var. virginicus               Yosemite National Park   \n",
      "6                      Spizella pusilla            Yellowstone National Park   \n",
      "7                     Elymus multisetus  Great Smoky Mountains National Park   \n",
      "8                Lysimachia quadrifolia               Yosemite National Park   \n",
      "9            Diphyscium cumberlandianum            Yellowstone National Park   \n",
      "10  Ludwigia peploides ssp. glabrescens                  Bryce National Park   \n",
      "11                Cistothorus platensis                  Bryce National Park   \n",
      "12         Setaria viridis var. viridis                  Bryce National Park   \n",
      "13                    Arabis davidsonii            Yellowstone National Park   \n",
      "14                    Fabronia ciliaris  Great Smoky Mountains National Park   \n",
      "\n",
      "    observations  \n",
      "0             68  \n",
      "1             77  \n",
      "2            138  \n",
      "3             84  \n",
      "4             85  \n",
      "5            112  \n",
      "6            228  \n",
      "7             39  \n",
      "8            168  \n",
      "9            250  \n",
      "10           103  \n",
      "11           114  \n",
      "12           101  \n",
      "13           279  \n",
      "14            72  \n"
     ]
    }
   ],
   "source": [
    "print(\"Observation\")\n",
    "print(observation_data.info())\n",
    "print(observation_data.describe())\n",
    "print(observation_data.head(15))\n"
   ]
  },
  {
   "cell_type": "markdown",
   "metadata": {},
   "source": [
    "## Connection the Tables\n",
    "\n",
    "Observation table does not include information like Category, Common Name, and Conservation Status. Merging the tables together allows us to examine categories within each park which is not included in the species table. Will also include some checks to see if all the data came accross."
   ]
  },
  {
   "cell_type": "code",
   "execution_count": 5,
   "metadata": {
    "tags": []
   },
   "outputs": [
    {
     "name": "stdout",
     "output_type": "stream",
     "text": [
      "25632\n",
      "<class 'pandas.core.frame.DataFrame'>\n",
      "Int64Index: 25632 entries, 0 to 25631\n",
      "Data columns (total 6 columns):\n",
      " #   Column               Non-Null Count  Dtype \n",
      "---  ------               --------------  ----- \n",
      " 0   scientific_name      25632 non-null  object\n",
      " 1   park_name            25632 non-null  object\n",
      " 2   observations         25632 non-null  int64 \n",
      " 3   category             25632 non-null  object\n",
      " 4   common_names         25632 non-null  object\n",
      " 5   conservation_status  880 non-null    object\n",
      "dtypes: int64(1), object(5)\n",
      "memory usage: 1.4+ MB\n",
      "None\n",
      "         scientific_name                            park_name  observations  \\\n",
      "0     Vicia benghalensis  Great Smoky Mountains National Park            68   \n",
      "1     Vicia benghalensis               Yosemite National Park           148   \n",
      "2     Vicia benghalensis            Yellowstone National Park           247   \n",
      "3     Vicia benghalensis                  Bryce National Park           104   \n",
      "4         Neovison vison  Great Smoky Mountains National Park            77   \n",
      "5         Neovison vison            Yellowstone National Park           218   \n",
      "6         Neovison vison                  Bryce National Park            91   \n",
      "7         Neovison vison               Yosemite National Park           200   \n",
      "8      Prunus subcordata               Yosemite National Park           138   \n",
      "9      Prunus subcordata            Yellowstone National Park           217   \n",
      "10     Prunus subcordata                  Bryce National Park            91   \n",
      "11     Prunus subcordata  Great Smoky Mountains National Park            72   \n",
      "12  Abutilon theophrasti                  Bryce National Park            84   \n",
      "13  Abutilon theophrasti               Yosemite National Park           138   \n",
      "14  Abutilon theophrasti  Great Smoky Mountains National Park            85   \n",
      "\n",
      "          category                        common_names conservation_status  \n",
      "0   Vascular Plant  Purple Vetch, Reddish Tufted Vetch                 NaN  \n",
      "1   Vascular Plant  Purple Vetch, Reddish Tufted Vetch                 NaN  \n",
      "2   Vascular Plant  Purple Vetch, Reddish Tufted Vetch                 NaN  \n",
      "3   Vascular Plant  Purple Vetch, Reddish Tufted Vetch                 NaN  \n",
      "4           Mammal                       American Mink                 NaN  \n",
      "5           Mammal                       American Mink                 NaN  \n",
      "6           Mammal                       American Mink                 NaN  \n",
      "7           Mammal                       American Mink                 NaN  \n",
      "8   Vascular Plant                        Klamath Plum                 NaN  \n",
      "9   Vascular Plant                        Klamath Plum                 NaN  \n",
      "10  Vascular Plant                        Klamath Plum                 NaN  \n",
      "11  Vascular Plant                        Klamath Plum                 NaN  \n",
      "12  Vascular Plant                          Velvetleaf                 NaN  \n",
      "13  Vascular Plant                          Velvetleaf                 NaN  \n",
      "14  Vascular Plant                          Velvetleaf                 NaN  \n"
     ]
    }
   ],
   "source": [
    "all_data = observation_data.merge(species_data, left_on='scientific_name', right_on='scientific_name')\n",
    "print(len(all_data))\n",
    "print(all_data.info())\n",
    "print(all_data.head(15))\n"
   ]
  },
  {
   "cell_type": "markdown",
   "metadata": {},
   "source": [
    "## Change NULL values\n",
    "\n",
    "Out of 25632 entries, only 880 of the `conservation_status` entires do not contain a NULL value. The next step will change these NULL values into a `Not Threatened` value."
   ]
  },
  {
   "cell_type": "code",
   "execution_count": 6,
   "metadata": {},
   "outputs": [],
   "source": [
    "all_data = all_data.fillna(value={'conservation_status': 'Not Threatened'})\n",
    "#print(all_data.head())"
   ]
  },
  {
   "cell_type": "markdown",
   "metadata": {},
   "source": [
    "## EDA"
   ]
  },
  {
   "cell_type": "markdown",
   "metadata": {},
   "source": [
    "Start testing Category and Conservation_status"
   ]
  },
  {
   "cell_type": "code",
   "execution_count": 31,
   "metadata": {},
   "outputs": [
    {
     "name": "stdout",
     "output_type": "stream",
     "text": [
      "conservation_status                  Endangered  In Recovery  Not Threatened  \\\n",
      "park_name                                                                      \n",
      "Bryce National Park                          20            6            6188   \n",
      "Great Smoky Mountains National Park          20            6            6188   \n",
      "Yellowstone National Park                    20            6            6188   \n",
      "Yosemite National Park                       20            6            6188   \n",
      "\n",
      "conservation_status                  Species of Concern  Threatened  \n",
      "park_name                                                            \n",
      "Bryce National Park                                 183          11  \n",
      "Great Smoky Mountains National Park                 183          11  \n",
      "Yellowstone National Park                           183          11  \n",
      "Yosemite National Park                              183          11  \n"
     ]
    }
   ],
   "source": [
    "category_status_crosstab = pd.crosstab(all_data[\"park_name\"], all_data[\"conservation_status\"])\n",
    "print(category_status_crosstab)"
   ]
  },
  {
   "cell_type": "code",
   "execution_count": 32,
   "metadata": {},
   "outputs": [
    {
     "name": "stdout",
     "output_type": "stream",
     "text": [
      "                scientific_name                            park_name  \\\n",
      "6009                Canis lupus               Yosemite National Park   \n",
      "6012                Canis lupus                  Bryce National Park   \n",
      "6015                Canis lupus                  Bryce National Park   \n",
      "6018                Canis lupus                  Bryce National Park   \n",
      "6021                Canis lupus  Great Smoky Mountains National Park   \n",
      "6024                Canis lupus            Yellowstone National Park   \n",
      "6027                Canis lupus            Yellowstone National Park   \n",
      "6030                Canis lupus            Yellowstone National Park   \n",
      "6033                Canis lupus  Great Smoky Mountains National Park   \n",
      "6036                Canis lupus               Yosemite National Park   \n",
      "6039                Canis lupus               Yosemite National Park   \n",
      "6042                Canis lupus  Great Smoky Mountains National Park   \n",
      "8676    Falco peregrinus anatum                  Bryce National Park   \n",
      "8677    Falco peregrinus anatum            Yellowstone National Park   \n",
      "8678    Falco peregrinus anatum  Great Smoky Mountains National Park   \n",
      "8679    Falco peregrinus anatum               Yosemite National Park   \n",
      "14068  Haliaeetus leucocephalus                  Bryce National Park   \n",
      "14069  Haliaeetus leucocephalus            Yellowstone National Park   \n",
      "14070  Haliaeetus leucocephalus               Yosemite National Park   \n",
      "14071  Haliaeetus leucocephalus  Great Smoky Mountains National Park   \n",
      "23356    Pelecanus occidentalis                  Bryce National Park   \n",
      "23357    Pelecanus occidentalis  Great Smoky Mountains National Park   \n",
      "23358    Pelecanus occidentalis               Yosemite National Park   \n",
      "23359    Pelecanus occidentalis            Yellowstone National Park   \n",
      "\n",
      "       observations category               common_names conservation_status  \n",
      "6009             35   Mammal            Gray Wolf, Wolf         In Recovery  \n",
      "6012             27   Mammal            Gray Wolf, Wolf         In Recovery  \n",
      "6015             29   Mammal            Gray Wolf, Wolf         In Recovery  \n",
      "6018             74   Mammal            Gray Wolf, Wolf         In Recovery  \n",
      "6021             15   Mammal            Gray Wolf, Wolf         In Recovery  \n",
      "6024             60   Mammal            Gray Wolf, Wolf         In Recovery  \n",
      "6027             67   Mammal            Gray Wolf, Wolf         In Recovery  \n",
      "6030            203   Mammal            Gray Wolf, Wolf         In Recovery  \n",
      "6033             14   Mammal            Gray Wolf, Wolf         In Recovery  \n",
      "6036            117   Mammal            Gray Wolf, Wolf         In Recovery  \n",
      "6039             44   Mammal            Gray Wolf, Wolf         In Recovery  \n",
      "6042             30   Mammal            Gray Wolf, Wolf         In Recovery  \n",
      "8676             72     Bird  American Peregrine Falcon         In Recovery  \n",
      "8677            176     Bird  American Peregrine Falcon         In Recovery  \n",
      "8678             70     Bird  American Peregrine Falcon         In Recovery  \n",
      "8679            152     Bird  American Peregrine Falcon         In Recovery  \n",
      "14068            94     Bird                 Bald Eagle         In Recovery  \n",
      "14069           187     Bird                 Bald Eagle         In Recovery  \n",
      "14070           112     Bird                 Bald Eagle         In Recovery  \n",
      "14071            72     Bird                 Bald Eagle         In Recovery  \n",
      "23356            92     Bird              Brown Pelican         In Recovery  \n",
      "23357            47     Bird              Brown Pelican         In Recovery  \n",
      "23358           122     Bird              Brown Pelican         In Recovery  \n",
      "23359           196     Bird              Brown Pelican         In Recovery  \n"
     ]
    }
   ],
   "source": [
    "print(all_data[all_data[\"conservation_status\"] == \"In Recovery\"].sort_index())\n",
    "print(observation_data[all_data[\"conservation_status\"] == \"In Recovery\"].sort_index())"
   ]
  },
  {
   "cell_type": "code",
   "execution_count": 15,
   "metadata": {},
   "outputs": [
    {
     "name": "stdout",
     "output_type": "stream",
     "text": [
      "1.0\n"
     ]
    }
   ],
   "source": [
    "chi2, pval, dof, expected = chi2_contingency(category_status_crosstab)\n",
    "print(pval)"
   ]
  },
  {
   "cell_type": "code",
   "execution_count": 13,
   "metadata": {},
   "outputs": [
    {
     "name": "stdout",
     "output_type": "stream",
     "text": [
      "81547.46406291836 0.0\n"
     ]
    }
   ],
   "source": [
    "obser_gsmnp = all_data.observations[all_data[\"park_name\"] == \"Great Smoky Mountains National Park\"]\n",
    "obser_yosemite = all_data.observations[all_data[\"park_name\"] == \"Yosemite National Park\"]\n",
    "obser_yellowstone = all_data.observations[all_data[\"park_name\"] == \"Yellowstone National Park\"]\n",
    "obser_bryce = all_data.observations[all_data[\"park_name\"] == \"Bryce National Park\"]\n",
    "\n",
    "fstat, pval = f_oneway(obser_gsmnp, obser_yosemite, obser_yellowstone, obser_bryce)\n",
    "print(fstat,pval)"
   ]
  },
  {
   "cell_type": "code",
   "execution_count": null,
   "metadata": {},
   "outputs": [],
   "source": []
  },
  {
   "cell_type": "code",
   "execution_count": null,
   "metadata": {},
   "outputs": [],
   "source": []
  }
 ],
 "metadata": {
  "kernelspec": {
   "display_name": "Python 3 (ipykernel)",
   "language": "python",
   "name": "python3"
  },
  "language_info": {
   "codemirror_mode": {
    "name": "ipython",
    "version": 3
   },
   "file_extension": ".py",
   "mimetype": "text/x-python",
   "name": "python",
   "nbconvert_exporter": "python",
   "pygments_lexer": "ipython3",
   "version": "3.9.7"
  }
 },
 "nbformat": 4,
 "nbformat_minor": 4
}
